{
 "cells": [
  {
   "cell_type": "markdown",
   "metadata": {},
   "source": [
    "STEP 1 : PREPROCESS DATA\n"
   ]
  },
  {
   "cell_type": "code",
   "execution_count": 1,
   "metadata": {},
   "outputs": [],
   "source": [
    "import nltk\n",
    "import re\n",
    "import numpy as np"
   ]
  },
  {
   "cell_type": "code",
   "execution_count": 5,
   "metadata": {},
   "outputs": [],
   "source": [
    "text=\"\"\"Once, there was a boy who became bored when he watched over the village sheep grazing on the hillside. To entertain himself, he sang out, “Wolf! Wolf! The wolf is chasing the sheep!” When the villagers heard the cry, they ran up the hill to drive the wolf away. But when they arrived, they saw no wolf. The boy was amused when he saw their angry faces. “Don’t scream wolf when there is no wolf, boy!” the villagers warned. They angrily went back down the hill. Later, the shepherd boy cried out once again, “Wolf! Wolf! The wolf is chasing the sheep!” To his amusement, the villagers came running up the hill to scare the wolf away. As they saw there was no wolf, they said strictly, “Save your frightened cry for when there really is a wolf! Don’t cry ‘wolf’ when there is no wolf!” But the boy grinned at their words while they walked, grumbling down the hill once more. Later, the boy saw a real wolf sneaking around his flock. Alarmed, he jumped on his feet and cried out as loud as he could, “Wolf! Wolf!” But the villagers thought he was fooling them again, and they didn’t come to help. At sunset, the villagers went looking for the boy who hadn’t returned with their sheep. When they went up the hill, they found him weeping. “There was a wolf here! The flock is gone! I cried out, ‘Wolf!’ but you didn’t come,” he wailed. An older man went to comfort the boy. As he put his arm around him, he said, “Nobody believes a liar, even when he is telling the truth!”\"\"\""
   ]
  },
  {
   "cell_type": "markdown",
   "metadata": {},
   "source": [
    "Convert text to lower case"
   ]
  },
  {
   "cell_type": "code",
   "execution_count": 6,
   "metadata": {},
   "outputs": [
    {
     "name": "stderr",
     "output_type": "stream",
     "text": [
      "[nltk_data] Downloading package punkt to\n",
      "[nltk_data]     C:\\Users\\Admin\\AppData\\Roaming\\nltk_data...\n",
      "[nltk_data]   Package punkt is already up-to-date!\n"
     ]
    },
    {
     "data": {
      "text/plain": [
       "True"
      ]
     },
     "execution_count": 6,
     "metadata": {},
     "output_type": "execute_result"
    }
   ],
   "source": [
    "nltk.download('punkt')"
   ]
  },
  {
   "cell_type": "code",
   "execution_count": 7,
   "metadata": {},
   "outputs": [],
   "source": [
    "dataset = nltk.sent_tokenize(text)"
   ]
  },
  {
   "cell_type": "code",
   "execution_count": 8,
   "metadata": {},
   "outputs": [
    {
     "data": {
      "text/plain": [
       "['Once, there was a boy who became bored when he watched over the village sheep grazing on the hillside.',\n",
       " 'To entertain himself, he sang out, “Wolf!',\n",
       " 'Wolf!',\n",
       " 'The wolf is chasing the sheep!” When the villagers heard the cry, they ran up the hill to drive the wolf away.',\n",
       " 'But when they arrived, they saw no wolf.',\n",
       " 'The boy was amused when he saw their angry faces.',\n",
       " '“Don’t scream wolf when there is no wolf, boy!” the villagers warned.',\n",
       " 'They angrily went back down the hill.',\n",
       " 'Later, the shepherd boy cried out once again, “Wolf!',\n",
       " 'Wolf!',\n",
       " 'The wolf is chasing the sheep!” To his amusement, the villagers came running up the hill to scare the wolf away.',\n",
       " 'As they saw there was no wolf, they said strictly, “Save your frightened cry for when there really is a wolf!',\n",
       " 'Don’t cry ‘wolf’ when there is no wolf!” But the boy grinned at their words while they walked, grumbling down the hill once more.',\n",
       " 'Later, the boy saw a real wolf sneaking around his flock.',\n",
       " 'Alarmed, he jumped on his feet and cried out as loud as he could, “Wolf!',\n",
       " 'Wolf!” But the villagers thought he was fooling them again, and they didn’t come to help.',\n",
       " 'At sunset, the villagers went looking for the boy who hadn’t returned with their sheep.',\n",
       " 'When they went up the hill, they found him weeping.',\n",
       " '“There was a wolf here!',\n",
       " 'The flock is gone!',\n",
       " 'I cried out, ‘Wolf!’ but you didn’t come,” he wailed.',\n",
       " 'An older man went to comfort the boy.',\n",
       " 'As he put his arm around him, he said, “Nobody believes a liar, even when he is telling the truth!”']"
      ]
     },
     "execution_count": 8,
     "metadata": {},
     "output_type": "execute_result"
    }
   ],
   "source": [
    "dataset"
   ]
  },
  {
   "cell_type": "markdown",
   "metadata": {},
   "source": [
    "*convert text into lower case\n",
    "*remove all non-word character\n",
    "*remove all puntuation"
   ]
  },
  {
   "cell_type": "code",
   "execution_count": 12,
   "metadata": {},
   "outputs": [],
   "source": [
    "for i in range(len(dataset)):\n",
    "    dataset[i]=dataset[i].lower()\n",
    "    dataset[i]=re.sub(r'\\W',' ',dataset[i])\n",
    "    dataset[i]=re.sub(r'\\s+',' ',dataset[i])"
   ]
  },
  {
   "cell_type": "code",
   "execution_count": 10,
   "metadata": {},
   "outputs": [
    {
     "data": {
      "text/plain": [
       "[' , .',\n",
       " ' , , “ !',\n",
       " ' !',\n",
       " ' !” , .',\n",
       " ' , .',\n",
       " ' .',\n",
       " '“ ’ , !” .',\n",
       " ' .',\n",
       " ' , , “ !',\n",
       " ' !',\n",
       " ' !” , .',\n",
       " ' , , “ !',\n",
       " ' ’ ‘ ’ !” , .',\n",
       " ' , .',\n",
       " ' , , “ !',\n",
       " ' !” , ’ .',\n",
       " ' , ’ .',\n",
       " ' , .',\n",
       " '“ !',\n",
       " ' !',\n",
       " ' , ‘ !’ ’ ,” .',\n",
       " ' .',\n",
       " ' , , “ , !”']"
      ]
     },
     "execution_count": 10,
     "metadata": {},
     "output_type": "execute_result"
    }
   ],
   "source": [
    "dataset"
   ]
  },
  {
   "cell_type": "markdown",
   "metadata": {},
   "source": [
    "STEP 2: OBTAINING MOST FREQUENT WORDS IN OUR TEXT"
   ]
  },
  {
   "cell_type": "markdown",
   "metadata": {},
   "source": [
    ".We deaclare a dictionary to holf our bag of words"
   ]
  },
  {
   "cell_type": "code",
   "execution_count": null,
   "metadata": {},
   "outputs": [],
   "source": [
    "word2count={}\n",
    "for data in dataset:\n",
    "    words= nltk.word_tokenize(data)\n",
    "    for word not in word2count.keys():\n",
    "        if wor"
   ]
  }
 ],
 "metadata": {
  "kernelspec": {
   "display_name": "Python 3",
   "language": "python",
   "name": "python3"
  },
  "language_info": {
   "codemirror_mode": {
    "name": "ipython",
    "version": 3
   },
   "file_extension": ".py",
   "mimetype": "text/x-python",
   "name": "python",
   "nbconvert_exporter": "python",
   "pygments_lexer": "ipython3",
   "version": "3.7.3"
  }
 },
 "nbformat": 4,
 "nbformat_minor": 2
}
