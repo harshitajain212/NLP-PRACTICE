{
 "cells": [
  {
   "cell_type": "code",
   "execution_count": 1,
   "metadata": {},
   "outputs": [],
   "source": [
    "import re\n",
    "# used to work with Regular Expressions.\n",
    "#Regular Expressions are used in various tasks such as data pre-processing,\n",
    "#rule-based information mining systems, pattern matching, text feature engineering, web scraping, data extraction, etc."
   ]
  },
  {
   "cell_type": "code",
   "execution_count": 2,
   "metadata": {},
   "outputs": [],
   "source": [
    "text1='ABC 123 XYZ 456 @&! 100'"
   ]
  },
  {
   "cell_type": "code",
   "execution_count": 3,
   "metadata": {},
   "outputs": [],
   "source": [
    "pattern=re.compile(r'\\d{3}')"
   ]
  },
  {
   "cell_type": "code",
   "execution_count": 4,
   "metadata": {},
   "outputs": [],
   "source": [
    "#matches=pattern.search(text1)"
   ]
  },
  {
   "cell_type": "code",
   "execution_count": 5,
   "metadata": {},
   "outputs": [],
   "source": [
    "matches=pattern.finditer(text1)"
   ]
  },
  {
   "cell_type": "code",
   "execution_count": 6,
   "metadata": {},
   "outputs": [
    {
     "name": "stdout",
     "output_type": "stream",
     "text": [
      "123\n",
      "456\n",
      "100\n"
     ]
    }
   ],
   "source": [
    "for match in matches:\n",
    "     print(match.group())"
   ]
  },
  {
   "cell_type": "code",
   "execution_count": 7,
   "metadata": {},
   "outputs": [],
   "source": [
    "import re"
   ]
  },
  {
   "cell_type": "code",
   "execution_count": 8,
   "metadata": {},
   "outputs": [],
   "source": [
    "text='''\n",
    "Hi,today is 17-Apr-2021,yesterday was 16-Apr-2021 and tommorrow will be 18-Apr-2021.\n",
    "My schedule is free on 26-04-2021,06.05.2021 and 16/Jun/2021.\n",
    "You can reach out to me at sdntheone@gmail.com or ask_help@deno.net & conference@demo.co.in\n",
    "You can also call me at one of the following no's +6032-007 1212, +6099.100 3344, 017-9998000 etc.\n",
    "'''"
   ]
  },
  {
   "cell_type": "markdown",
   "metadata": {},
   "source": [
    "DATE PATTERN"
   ]
  },
  {
   "cell_type": "code",
   "execution_count": 9,
   "metadata": {},
   "outputs": [],
   "source": [
    "datepattern=re.compile(r'\\d{2}-[a-zA-Z]{3}-\\d{4}')"
   ]
  },
  {
   "cell_type": "code",
   "execution_count": 10,
   "metadata": {},
   "outputs": [],
   "source": [
    "datepattern=re.compile(r'\\d{2}[-./]([a-zA-Z]{3}|\\d{2})[-./]\\d{4}')"
   ]
  },
  {
   "cell_type": "code",
   "execution_count": 11,
   "metadata": {},
   "outputs": [],
   "source": [
    "matches=datepattern.finditer(text)"
   ]
  },
  {
   "cell_type": "code",
   "execution_count": 12,
   "metadata": {},
   "outputs": [
    {
     "name": "stdout",
     "output_type": "stream",
     "text": [
      "17-Apr-2021\n",
      "16-Apr-2021\n",
      "18-Apr-2021\n",
      "26-04-2021\n",
      "06.05.2021\n",
      "16/Jun/2021\n"
     ]
    }
   ],
   "source": [
    "for match in matches:\n",
    "    print(match.group())"
   ]
  },
  {
   "cell_type": "markdown",
   "metadata": {},
   "source": [
    "EMAIL PATTERN"
   ]
  },
  {
   "cell_type": "code",
   "execution_count": 13,
   "metadata": {},
   "outputs": [],
   "source": [
    "emailpattern=re.compile(r'\\w+@[a-z]+(\\.[a-z]{2,3})+')"
   ]
  },
  {
   "cell_type": "code",
   "execution_count": 14,
   "metadata": {},
   "outputs": [],
   "source": [
    "matches=emailpattern.finditer(text)"
   ]
  },
  {
   "cell_type": "code",
   "execution_count": 15,
   "metadata": {},
   "outputs": [
    {
     "name": "stdout",
     "output_type": "stream",
     "text": [
      "sdntheone@gmail.com\n",
      "ask_help@deno.net\n",
      "conference@demo.co.in\n"
     ]
    }
   ],
   "source": [
    "for match in matches:\n",
    "    print(match.group())"
   ]
  },
  {
   "cell_type": "markdown",
   "metadata": {},
   "source": [
    "PHONE PATTERN"
   ]
  },
  {
   "cell_type": "code",
   "execution_count": 16,
   "metadata": {},
   "outputs": [],
   "source": [
    "phonepattern=re.compile(r'(\\+\\d)?\\d{3}[-.]\\d{3}\\s?\\d{4}')"
   ]
  },
  {
   "cell_type": "code",
   "execution_count": 17,
   "metadata": {},
   "outputs": [],
   "source": [
    "phonepattern=re.compile(r'(\\+\\d)?\\d{3}[-.]\\d{3}\\s?\\d{4}')"
   ]
  },
  {
   "cell_type": "code",
   "execution_count": 18,
   "metadata": {},
   "outputs": [],
   "source": [
    "matches=phonepattern.finditer(text)"
   ]
  },
  {
   "cell_type": "code",
   "execution_count": 19,
   "metadata": {},
   "outputs": [
    {
     "name": "stdout",
     "output_type": "stream",
     "text": [
      "+6032-007 1212\n",
      "+6099.100 3344\n",
      "017-9998000\n"
     ]
    }
   ],
   "source": [
    "for match in matches:\n",
    "    print(match.group())"
   ]
  },
  {
   "cell_type": "code",
   "execution_count": 20,
   "metadata": {},
   "outputs": [],
   "source": [
    "text4='Hi, how are you?'\n",
    "pattern=re.compile(r'^(Hi).*\\?$')"
   ]
  },
  {
   "cell_type": "code",
   "execution_count": 21,
   "metadata": {},
   "outputs": [],
   "source": [
    "matches=pattern.finditer(text4)"
   ]
  },
  {
   "cell_type": "code",
   "execution_count": 22,
   "metadata": {},
   "outputs": [
    {
     "name": "stdout",
     "output_type": "stream",
     "text": [
      "Hi, how are you?\n"
     ]
    }
   ],
   "source": [
    "for match in matches:\n",
    "    print(match.group())"
   ]
  },
  {
   "cell_type": "code",
   "execution_count": 23,
   "metadata": {},
   "outputs": [
    {
     "name": "stdout",
     "output_type": "stream",
     "text": [
      "my income in 2019 was 32231312112332 and it is 32231312112332\n"
     ]
    }
   ],
   "source": [
    "text='my income in 2019 was $12,0000 and it is $15,0000'\n",
    "\n",
    "pattern=re.compile(r'\\$[0-9,]+')\n",
    "\n",
    "matches=pattern.sub('32231312112332',text)\n",
    "print(matches)"
   ]
  }
 ],
 "metadata": {
  "kernelspec": {
   "display_name": "Python 3",
   "language": "python",
   "name": "python3"
  },
  "language_info": {
   "codemirror_mode": {
    "name": "ipython",
    "version": 3
   },
   "file_extension": ".py",
   "mimetype": "text/x-python",
   "name": "python",
   "nbconvert_exporter": "python",
   "pygments_lexer": "ipython3",
   "version": "3.7.3"
  }
 },
 "nbformat": 4,
 "nbformat_minor": 2
}
